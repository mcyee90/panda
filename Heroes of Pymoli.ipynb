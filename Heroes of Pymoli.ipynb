{
 "cells": [
  {
   "cell_type": "markdown",
   "metadata": {},
   "source": [
    "# Heroes of Pymoli Data Analysis \n",
    "\n",
    "- Observation 1: The majority of the players of Heroes of Pymoli are within the age range 15-25. There are some younger players and some older players, but of the 573 players, 373 (65.0%) players fall within this range.\n",
    "\n",
    "- Observations 2: The proportion of players by gender and the proportion of money spent by gender are approximately equal. For males, 81.15% of the players are male, while 81.69% of the purchases come from males. For females, 17.45% of the players are female, while 16.75% of the purchases come from females. For other, 1.40% of the players are female, while 1.56% of the purchases come from this group.\n",
    "\n",
    "- Observation 3: The most profitable items are items that are generally more expensive and have decent sales volume. The top 5 listed show that all of the items are well above the average price of an item which is 2.93. Alternatively, the best selling items are much cheaper and all fall below the average price of 2.93.\n"
   ]
  },
  {
   "cell_type": "code",
   "execution_count": 1,
   "metadata": {
    "collapsed": true
   },
   "outputs": [],
   "source": [
    "import pandas as pd"
   ]
  },
  {
   "cell_type": "code",
   "execution_count": 2,
   "metadata": {
    "collapsed": true
   },
   "outputs": [],
   "source": [
    "# read json file\n",
    "\n",
    "filepath = \"purchase_data2.json\"\n",
    "\n",
    "pymoli_raw = pd.read_json(filepath, orient= 'columns')\n",
    "# pymoli_raw.head()\n"
   ]
  },
  {
   "cell_type": "code",
   "execution_count": 3,
   "metadata": {},
   "outputs": [
    {
     "data": {
      "text/html": [
       "<div>\n",
       "<style>\n",
       "    .dataframe thead tr:only-child th {\n",
       "        text-align: right;\n",
       "    }\n",
       "\n",
       "    .dataframe thead th {\n",
       "        text-align: left;\n",
       "    }\n",
       "\n",
       "    .dataframe tbody tr th {\n",
       "        vertical-align: top;\n",
       "    }\n",
       "</style>\n",
       "<table border=\"1\" class=\"dataframe\">\n",
       "  <thead>\n",
       "    <tr style=\"text-align: right;\">\n",
       "      <th></th>\n",
       "      <th>Total Number of Players</th>\n",
       "    </tr>\n",
       "  </thead>\n",
       "  <tbody>\n",
       "    <tr>\n",
       "      <th>0</th>\n",
       "      <td>74</td>\n",
       "    </tr>\n",
       "  </tbody>\n",
       "</table>\n",
       "</div>"
      ],
      "text/plain": [
       "   Total Number of Players\n",
       "0                       74"
      ]
     },
     "execution_count": 3,
     "metadata": {},
     "output_type": "execute_result"
    }
   ],
   "source": [
    "# total number of players\n",
    "\n",
    "totalPlayersList = pymoli_raw[\"SN\"].unique()\n",
    "totalPlayers = len(totalPlayersList)\n",
    "totalPlayer_df  = pd.DataFrame({\"Total Number of Players\":[totalPlayers]})\n",
    "totalPlayer_df"
   ]
  },
  {
   "cell_type": "code",
   "execution_count": 4,
   "metadata": {
    "collapsed": true
   },
   "outputs": [],
   "source": [
    "# Purchasing Analysis (Total)\n",
    "# Number of Unique Items\n",
    "itemsList = pymoli_raw[\"Item ID\"].unique()\n",
    "items = len(itemsList)\n",
    "# items"
   ]
  },
  {
   "cell_type": "code",
   "execution_count": 5,
   "metadata": {
    "collapsed": true
   },
   "outputs": [],
   "source": [
    "# Average Purchase Price\n",
    "avgPP = pymoli_raw[\"Price\"].mean()\n",
    "# avgPP"
   ]
  },
  {
   "cell_type": "code",
   "execution_count": 6,
   "metadata": {
    "collapsed": true
   },
   "outputs": [],
   "source": [
    "# Total Number of Purchases\n",
    "pymoli_sort = pymoli_raw.sort_values(by=[\"Price\"])\n",
    "purchases = len(pymoli_sort)\n",
    "# purchases"
   ]
  },
  {
   "cell_type": "code",
   "execution_count": 7,
   "metadata": {
    "collapsed": true
   },
   "outputs": [],
   "source": [
    "# Total Revenue\n",
    "revenue = pymoli_raw[\"Price\"].sum()\n",
    "# revenue"
   ]
  },
  {
   "cell_type": "code",
   "execution_count": 8,
   "metadata": {
    "collapsed": true
   },
   "outputs": [],
   "source": [
    "# move to dataframe\n",
    "items_df = pd.DataFrame({\"Number of Unique Items\":[items],\n",
    "                        \"Average Price\": [avgPP],\n",
    "                        \"Number of Purchases\": [purchases],\n",
    "                        \"Total Revenue\": [revenue]})"
   ]
  },
  {
   "cell_type": "code",
   "execution_count": 9,
   "metadata": {},
   "outputs": [
    {
     "data": {
      "text/html": [
       "<div>\n",
       "<style>\n",
       "    .dataframe thead tr:only-child th {\n",
       "        text-align: right;\n",
       "    }\n",
       "\n",
       "    .dataframe thead th {\n",
       "        text-align: left;\n",
       "    }\n",
       "\n",
       "    .dataframe tbody tr th {\n",
       "        vertical-align: top;\n",
       "    }\n",
       "</style>\n",
       "<table border=\"1\" class=\"dataframe\">\n",
       "  <thead>\n",
       "    <tr style=\"text-align: right;\">\n",
       "      <th></th>\n",
       "      <th>Number of Unique Items</th>\n",
       "      <th>Average Price</th>\n",
       "      <th>Number of Purchases</th>\n",
       "      <th>Total Revenue</th>\n",
       "    </tr>\n",
       "  </thead>\n",
       "  <tbody>\n",
       "    <tr>\n",
       "      <th>0</th>\n",
       "      <td>64</td>\n",
       "      <td>$2.92</td>\n",
       "      <td>78</td>\n",
       "      <td>$228.10</td>\n",
       "    </tr>\n",
       "  </tbody>\n",
       "</table>\n",
       "</div>"
      ],
      "text/plain": [
       "   Number of Unique Items Average Price  Number of Purchases Total Revenue\n",
       "0                      64         $2.92                   78       $228.10"
      ]
     },
     "execution_count": 9,
     "metadata": {},
     "output_type": "execute_result"
    }
   ],
   "source": [
    "items_df[\"Average Price\"] = items_df[\"Average Price\"].map(\"${0:,.2f}\".format)\n",
    "items_df[\"Total Revenue\"] = items_df[\"Total Revenue\"].map(\"${0:,.2f}\".format)\n",
    "items_df = items_df[[\"Number of Unique Items\",\"Average Price\", \"Number of Purchases\",\"Total Revenue\"]]\n",
    "items_df"
   ]
  },
  {
   "cell_type": "code",
   "execution_count": 10,
   "metadata": {
    "collapsed": true
   },
   "outputs": [],
   "source": [
    "# Gender Demographics\n",
    "# Total unique players in list\n",
    "player_pymoli = pymoli_sort.drop_duplicates(['SN'])\n",
    "# player_pymoli.head()"
   ]
  },
  {
   "cell_type": "code",
   "execution_count": 11,
   "metadata": {
    "collapsed": true
   },
   "outputs": [],
   "source": [
    "# Percentage and Count of Male Players\n",
    "maleCount = player_pymoli[\"Gender\"].value_counts()['Male']\n",
    "# print (\"# of Male Players: \"+ str(maleCount))\n",
    "malePercent = 100 * maleCount/totalPlayers\n",
    "# print (\"% of Male Players: \" + str(malePercent) + \"%\")"
   ]
  },
  {
   "cell_type": "code",
   "execution_count": 12,
   "metadata": {
    "collapsed": true
   },
   "outputs": [],
   "source": [
    "# Percentage and Count of Female Players\n",
    "femaleCount = player_pymoli[\"Gender\"].value_counts()[\"Female\"]\n",
    "# print (\"# of Female Players: \" + str(femaleCount))\n",
    "femalePercent = 100 * femaleCount/totalPlayers\n",
    "# print (\"% of Female Players: \" + str(femalePercent) + \"%\")"
   ]
  },
  {
   "cell_type": "code",
   "execution_count": 13,
   "metadata": {
    "collapsed": true
   },
   "outputs": [],
   "source": [
    "# Percentage and Count of Other / Non-Disclosed\n",
    "otherCount = player_pymoli[\"Gender\"].value_counts()[\"Other / Non-Disclosed\"]\n",
    "# print (\"# of Other / Non-Disclosed Players: \" + str(otherCount))\n",
    "otherPercent = 100 * otherCount/totalPlayers\n",
    "# print (\"% of Other / Non-Disclosed Players: \" + str(otherPercent) + \"%\")"
   ]
  },
  {
   "cell_type": "code",
   "execution_count": 14,
   "metadata": {},
   "outputs": [
    {
     "data": {
      "text/html": [
       "<div>\n",
       "<style>\n",
       "    .dataframe thead tr:only-child th {\n",
       "        text-align: right;\n",
       "    }\n",
       "\n",
       "    .dataframe thead th {\n",
       "        text-align: left;\n",
       "    }\n",
       "\n",
       "    .dataframe tbody tr th {\n",
       "        vertical-align: top;\n",
       "    }\n",
       "</style>\n",
       "<table border=\"1\" class=\"dataframe\">\n",
       "  <thead>\n",
       "    <tr style=\"text-align: right;\">\n",
       "      <th></th>\n",
       "      <th>Percentage of Players</th>\n",
       "      <th>Total Count</th>\n",
       "    </tr>\n",
       "  </thead>\n",
       "  <tbody>\n",
       "    <tr>\n",
       "      <th>Male</th>\n",
       "      <td>81.08%</td>\n",
       "      <td>60</td>\n",
       "    </tr>\n",
       "    <tr>\n",
       "      <th>Female</th>\n",
       "      <td>17.57%</td>\n",
       "      <td>13</td>\n",
       "    </tr>\n",
       "    <tr>\n",
       "      <th>Other</th>\n",
       "      <td>1.35%</td>\n",
       "      <td>1</td>\n",
       "    </tr>\n",
       "  </tbody>\n",
       "</table>\n",
       "</div>"
      ],
      "text/plain": [
       "       Percentage of Players  Total Count\n",
       "Male                  81.08%           60\n",
       "Female                17.57%           13\n",
       "Other                  1.35%            1"
      ]
     },
     "execution_count": 14,
     "metadata": {},
     "output_type": "execute_result"
    }
   ],
   "source": [
    "genderBreakdown = pd.DataFrame({\"Gender\": [\"Male\",\"Female\",\"Other\"],\n",
    "                                \"Percentage of Players\": [malePercent, femalePercent, otherPercent],\n",
    "                                \"Total Count\": [maleCount, femaleCount, otherCount]})\n",
    "\n",
    "genderBreakdown[\"Percentage of Players\"] = genderBreakdown[\"Percentage of Players\"].map(\"{0:,.2f}%\".format)\n",
    "genderBreakdown.set_index(\"Gender\", inplace= True)\n",
    "del genderBreakdown.index.name\n",
    "genderBreakdown\n",
    "\n"
   ]
  },
  {
   "cell_type": "code",
   "execution_count": 15,
   "metadata": {
    "collapsed": true
   },
   "outputs": [],
   "source": [
    "# The below each broken by gender\n",
    "# Purchase Count\n",
    "\n",
    "malePurchase = pymoli_raw[\"Gender\"].value_counts()[\"Male\"]\n",
    "# print (\"Purchases by males: \" + str(malePurchase))\n",
    "femalePurchase = pymoli_raw[\"Gender\"].value_counts()[\"Female\"]\n",
    "# print (\"Purchases by females: \" + str(femalePurchase))\n",
    "otherPurchase = pymoli_raw[\"Gender\"].value_counts()[\"Other / Non-Disclosed\"]\n",
    "# print (\"Purchases by Other / Non-Disclosed: \" + str(otherPurchase))"
   ]
  },
  {
   "cell_type": "code",
   "execution_count": 16,
   "metadata": {
    "collapsed": true
   },
   "outputs": [],
   "source": [
    "# Average Purchase Price\n",
    "totalMalePurch = pymoli_raw[pymoli_raw[\"Gender\"]==\"Male\"].sum()[\"Price\"]\n",
    "avgMalePurch = totalMalePurch / malePurchase\n",
    "# print (\"Average Purchase Price by Males: $\" + str(avgMalePurch))\n",
    "\n",
    "totalFemalePurch = pymoli_raw[pymoli_raw[\"Gender\"]==\"Female\"].sum()[\"Price\"]\n",
    "avgFemalePurch = totalFemalePurch / femalePurchase\n",
    "# print (\"Average Purchase Price by Females: $\" + str(avgFemalePurch))\n",
    "\n",
    "totalOtherPurch = pymoli_raw[pymoli_raw[\"Gender\"]==\"Other / Non-Disclosed\"].sum()[\"Price\"]\n",
    "avgOtherPurch = totalOtherPurch / otherPurchase\n",
    "# print (\"Average Purchase Price by Other / Non-Disclosed: $\" + str(avgOtherPurch))"
   ]
  },
  {
   "cell_type": "code",
   "execution_count": 17,
   "metadata": {
    "collapsed": true
   },
   "outputs": [],
   "source": [
    "# Total Purchase Value\n",
    "# print (\"Total Purchased by Males: $\" + str(totalMalePurch))\n",
    "# print (\"Total Purchased by Females: $\" + str(totalFemalePurch))\n",
    "# print (\"Total Purchased by Other: $\" + str(totalOtherPurch))"
   ]
  },
  {
   "cell_type": "code",
   "execution_count": 18,
   "metadata": {
    "collapsed": true
   },
   "outputs": [],
   "source": [
    "#Standard Deviation of Purchase Price\n",
    "standardDeviationPrice = pymoli_raw[\"Price\"].std()\n",
    "# standardDeviationPrice"
   ]
  },
  {
   "cell_type": "code",
   "execution_count": 19,
   "metadata": {
    "collapsed": true
   },
   "outputs": [],
   "source": [
    "# Normalized Totals\n",
    "normalizedMale = (avgMalePurch - avgPP) / standardDeviationPrice\n",
    "normalizedFemale = (avgFemalePurch - avgPP) / standardDeviationPrice\n",
    "normalizedOther = (avgOtherPurch - avgPP) / standardDeviationPrice\n",
    "\n",
    "# print(normalizedMale)\n",
    "# print(normalizedFemale)\n",
    "# print(normalizedOther)"
   ]
  },
  {
   "cell_type": "code",
   "execution_count": 20,
   "metadata": {},
   "outputs": [
    {
     "data": {
      "text/html": [
       "<div>\n",
       "<style>\n",
       "    .dataframe thead tr:only-child th {\n",
       "        text-align: right;\n",
       "    }\n",
       "\n",
       "    .dataframe thead th {\n",
       "        text-align: left;\n",
       "    }\n",
       "\n",
       "    .dataframe tbody tr th {\n",
       "        vertical-align: top;\n",
       "    }\n",
       "</style>\n",
       "<table border=\"1\" class=\"dataframe\">\n",
       "  <thead>\n",
       "    <tr style=\"text-align: right;\">\n",
       "      <th></th>\n",
       "      <th>Purchase Count</th>\n",
       "      <th>Average Purchase Price</th>\n",
       "      <th>Total Purchase Value</th>\n",
       "      <th>Normalized Totals</th>\n",
       "    </tr>\n",
       "    <tr>\n",
       "      <th>Gender</th>\n",
       "      <th></th>\n",
       "      <th></th>\n",
       "      <th></th>\n",
       "      <th></th>\n",
       "    </tr>\n",
       "  </thead>\n",
       "  <tbody>\n",
       "    <tr>\n",
       "      <th>Male</th>\n",
       "      <td>64</td>\n",
       "      <td>$2.88</td>\n",
       "      <td>$184.60</td>\n",
       "      <td>-0.0352</td>\n",
       "    </tr>\n",
       "    <tr>\n",
       "      <th>Female</th>\n",
       "      <td>13</td>\n",
       "      <td>$3.18</td>\n",
       "      <td>$41.38</td>\n",
       "      <td>0.2280</td>\n",
       "    </tr>\n",
       "    <tr>\n",
       "      <th>Other</th>\n",
       "      <td>1</td>\n",
       "      <td>$2.12</td>\n",
       "      <td>$2.12</td>\n",
       "      <td>-0.7087</td>\n",
       "    </tr>\n",
       "  </tbody>\n",
       "</table>\n",
       "</div>"
      ],
      "text/plain": [
       "        Purchase Count Average Purchase Price Total Purchase Value  \\\n",
       "Gender                                                               \n",
       "Male                64                  $2.88              $184.60   \n",
       "Female              13                  $3.18               $41.38   \n",
       "Other                1                  $2.12                $2.12   \n",
       "\n",
       "       Normalized Totals  \n",
       "Gender                    \n",
       "Male             -0.0352  \n",
       "Female            0.2280  \n",
       "Other            -0.7087  "
      ]
     },
     "execution_count": 20,
     "metadata": {},
     "output_type": "execute_result"
    }
   ],
   "source": [
    "# gender purchase breakdown\n",
    "genderPurchaseBreakdown = pd.DataFrame({\"Gender\": [\"Male\",\"Female\",\"Other\"],\n",
    "                                        \"Purchase Count\": [malePurchase, femalePurchase, otherPurchase],\n",
    "                                        \"Average Purchase Price\": [avgMalePurch, avgFemalePurch, avgOtherPurch],\n",
    "                                        \"Total Purchase Value\": [totalMalePurch, totalFemalePurch, totalOtherPurch],\n",
    "                                        \"Normalized Totals\": [normalizedMale, normalizedFemale, normalizedOther],})\n",
    "\n",
    "genderPurchaseBreakdown.set_index(\"Gender\", inplace= True)\n",
    "\n",
    "genderPurchaseBreakdown[\"Average Purchase Price\"] = genderPurchaseBreakdown[\"Average Purchase Price\"].map(\"${0:,.2f}\".format)\n",
    "genderPurchaseBreakdown[\"Total Purchase Value\"] = genderPurchaseBreakdown[\"Total Purchase Value\"].map(\"${0:,.2f}\".format)\n",
    "genderPurchaseBreakdown[\"Normalized Totals\"] = genderPurchaseBreakdown[\"Normalized Totals\"].map(\"{0:,.4f}\".format)\n",
    "genderPurchaseBreakdown = genderPurchaseBreakdown[[\"Purchase Count\", \"Average Purchase Price\", \"Total Purchase Value\", \"Normalized Totals\"]]\n",
    "genderPurchaseBreakdown"
   ]
  },
  {
   "cell_type": "code",
   "execution_count": 21,
   "metadata": {
    "collapsed": true
   },
   "outputs": [],
   "source": [
    "# Age Demographics\n",
    "\n",
    "# The below each broken into bins of 4 years (i.e. <10, 10-14, 15-19, etc.) \n",
    "bins = [0, 10, 15, 20, 25, 30, 35, 40, 60]\n",
    "ageGroup = [\"0-10\",\"10-15\",\"15-20\",\"20-25\",\"25-30\",\"30-35\",\"35-40\",\"40+\"]\n",
    "pymoli_raw[\"Age Group\"] = pd.cut(pymoli_raw[\"Age\"], bins, labels = ageGroup)\n",
    "# pymoli_raw.head()\n",
    "\n",
    "# Normalized Totals"
   ]
  },
  {
   "cell_type": "code",
   "execution_count": 22,
   "metadata": {},
   "outputs": [
    {
     "data": {
      "text/html": [
       "<div>\n",
       "<style>\n",
       "    .dataframe thead tr:only-child th {\n",
       "        text-align: right;\n",
       "    }\n",
       "\n",
       "    .dataframe thead th {\n",
       "        text-align: left;\n",
       "    }\n",
       "\n",
       "    .dataframe tbody tr th {\n",
       "        vertical-align: top;\n",
       "    }\n",
       "</style>\n",
       "<table border=\"1\" class=\"dataframe\">\n",
       "  <thead>\n",
       "    <tr style=\"text-align: right;\">\n",
       "      <th></th>\n",
       "      <th>Percentage of Players</th>\n",
       "      <th>Total Count</th>\n",
       "    </tr>\n",
       "    <tr>\n",
       "      <th>Age Range</th>\n",
       "      <th></th>\n",
       "      <th></th>\n",
       "    </tr>\n",
       "  </thead>\n",
       "  <tbody>\n",
       "    <tr>\n",
       "      <th>0-10</th>\n",
       "      <td>6.76%</td>\n",
       "      <td>5</td>\n",
       "    </tr>\n",
       "    <tr>\n",
       "      <th>10-15</th>\n",
       "      <td>5.41%</td>\n",
       "      <td>4</td>\n",
       "    </tr>\n",
       "    <tr>\n",
       "      <th>15-20</th>\n",
       "      <td>27.03%</td>\n",
       "      <td>20</td>\n",
       "    </tr>\n",
       "    <tr>\n",
       "      <th>20-25</th>\n",
       "      <td>40.54%</td>\n",
       "      <td>30</td>\n",
       "    </tr>\n",
       "    <tr>\n",
       "      <th>25-30</th>\n",
       "      <td>5.41%</td>\n",
       "      <td>4</td>\n",
       "    </tr>\n",
       "    <tr>\n",
       "      <th>30-35</th>\n",
       "      <td>8.11%</td>\n",
       "      <td>6</td>\n",
       "    </tr>\n",
       "    <tr>\n",
       "      <th>35-40</th>\n",
       "      <td>6.76%</td>\n",
       "      <td>5</td>\n",
       "    </tr>\n",
       "    <tr>\n",
       "      <th>40+</th>\n",
       "      <td>0.00%</td>\n",
       "      <td>0</td>\n",
       "    </tr>\n",
       "  </tbody>\n",
       "</table>\n",
       "</div>"
      ],
      "text/plain": [
       "          Percentage of Players  Total Count\n",
       "Age Range                                   \n",
       "0-10                      6.76%            5\n",
       "10-15                     5.41%            4\n",
       "15-20                    27.03%           20\n",
       "20-25                    40.54%           30\n",
       "25-30                     5.41%            4\n",
       "30-35                     8.11%            6\n",
       "35-40                     6.76%            5\n",
       "40+                       0.00%            0"
      ]
     },
     "execution_count": 22,
     "metadata": {},
     "output_type": "execute_result"
    }
   ],
   "source": [
    "# Count of Players in Age Range\n",
    "ageRange = pymoli_raw.drop_duplicates(['SN'])\n",
    "# ageRange.head()\n",
    "# 0-10\n",
    "players0010 = ageRange[\"Age Group\"].value_counts()[\"0-10\"]\n",
    "percent0010 = 100 * players0010/totalPlayers\n",
    "# 10-15\n",
    "players1015 = ageRange[\"Age Group\"].value_counts()[\"10-15\"]\n",
    "percent1015 = 100 * players1015/totalPlayers\n",
    "# 15-20\n",
    "players1520 = ageRange[\"Age Group\"].value_counts()[\"15-20\"]\n",
    "percent1520 = 100 * players1520/totalPlayers\n",
    "# 20-25\n",
    "players2025 = ageRange[\"Age Group\"].value_counts()[\"20-25\"]\n",
    "percent2025 = 100 * players2025/totalPlayers\n",
    "# 25-30\n",
    "players2530 = ageRange[\"Age Group\"].value_counts()[\"25-30\"]\n",
    "percent2530 = 100 * players2530/totalPlayers\n",
    "# 30-35\n",
    "players3035 = ageRange[\"Age Group\"].value_counts()[\"30-35\"]\n",
    "percent3035 = 100 * players3035/totalPlayers\n",
    "# 35-40\n",
    "players3540 = ageRange[\"Age Group\"].value_counts()[\"35-40\"]\n",
    "percent3540 = 100 * players3540/totalPlayers\n",
    "# 40 +\n",
    "players4060 = ageRange[\"Age Group\"].value_counts()[\"40+\"]\n",
    "percent4060 = 100 * players4060/totalPlayers\n",
    "\n",
    "playerDemographic = pd.DataFrame({\"Age Range\": [\"0-10\",\"10-15\",\"15-20\",\"20-25\",\"25-30\",\"30-35\",\"35-40\",\"40+\"],\n",
    "                                  \"Percentage of Players\": [percent0010, percent1015, percent1520, percent2025, percent2530, percent3035, percent3540, percent4060],\n",
    "                                 \"Total Count\": [players0010, players1015, players1520, players2025, players2530, players3035, players3540, players4060]})\n",
    "\n",
    "playerDemographic[\"Percentage of Players\"] = playerDemographic[\"Percentage of Players\"].map(\"{0:,.2f}%\".format)\n",
    "playerDemographic.set_index(\"Age Range\", inplace=True)\n",
    "\n",
    "playerDemographic"
   ]
  },
  {
   "cell_type": "code",
   "execution_count": 23,
   "metadata": {
    "collapsed": true
   },
   "outputs": [],
   "source": [
    "# Purchase Count\n",
    "# 0-10\n",
    "purchase0010 = pymoli_raw[\"Age Group\"].value_counts()[\"0-10\"]\n",
    "# print (\"Amount Purchased by 0-10: \" + str(purchase0010))\n",
    "# 10-15\n",
    "purchase1015 = pymoli_raw[\"Age Group\"].value_counts()[\"10-15\"]\n",
    "# print (\"Amount Purchased by 10-15: \" + str(purchase1015))\n",
    "# 15-20\n",
    "purchase1520 = pymoli_raw[\"Age Group\"].value_counts()[\"15-20\"]\n",
    "# print (\"Amount Purchased by 15-20: \" + str(purchase1520))\n",
    "# 20-25\n",
    "purchase2025 = pymoli_raw[\"Age Group\"].value_counts()[\"20-25\"]\n",
    "# print (\"Amount Purchased by 20-25: \" + str(purchase2025))\n",
    "# 25-30\n",
    "purchase2530 = pymoli_raw[\"Age Group\"].value_counts()[\"25-30\"]\n",
    "# print (\"Amount Purchased by 25-30: \" + str(purchase2530))\n",
    "# 30-35\n",
    "purchase3035 = pymoli_raw[\"Age Group\"].value_counts()[\"30-35\"]\n",
    "# print (\"Amount Purchased by 30-35: \" + str(purchase3035))\n",
    "# 35-40\n",
    "purchase3540 = pymoli_raw[\"Age Group\"].value_counts()[\"35-40\"]\n",
    "# print (\"Amount Purchased by 35:40: \" + str(purchase3540))\n",
    "# 40 +\n",
    "purchase4060 = pymoli_raw[\"Age Group\"].value_counts()[\"40+\"]\n",
    "# print (\"Amount Purchased by 40+: \" + str(purchase4060))"
   ]
  },
  {
   "cell_type": "code",
   "execution_count": 41,
   "metadata": {},
   "outputs": [
    {
     "name": "stdout",
     "output_type": "stream",
     "text": [
      "0\n"
     ]
    },
    {
     "name": "stderr",
     "output_type": "stream",
     "text": [
      "C:\\Users\\mcyee\\Anaconda3\\envs\\pythondata\\lib\\site-packages\\ipykernel\\__main__.py:26: RuntimeWarning: invalid value encountered in double_scalars\n"
     ]
    }
   ],
   "source": [
    "# Average Purchase Price\n",
    "# Total Purchase Value\n",
    "# 0-10\n",
    "totalPurch0010 = pymoli_raw[pymoli_raw[\"Age Group\"]==\"0-10\"].sum()[\"Price\"]\n",
    "avgPurch0010 = totalPurch0010 / purchase0010\n",
    "# 10-15\n",
    "totalPurch1015 = pymoli_raw[pymoli_raw[\"Age Group\"]==\"10-15\"].sum()[\"Price\"]\n",
    "avgPurch1015 = totalPurch1015 / purchase1015\n",
    "# 15-20\n",
    "totalPurch1520 = pymoli_raw[pymoli_raw[\"Age Group\"]==\"15-20\"].sum()[\"Price\"]\n",
    "avgPurch1520 = totalPurch1520 / purchase1520\n",
    "# 20-25\n",
    "totalPurch2025 = pymoli_raw[pymoli_raw[\"Age Group\"]==\"20-25\"].sum()[\"Price\"]\n",
    "avgPurch2025 = totalPurch2025 / purchase2025\n",
    "# 25-30\n",
    "totalPurch2530 = pymoli_raw[pymoli_raw[\"Age Group\"]==\"25-30\"].sum()[\"Price\"]\n",
    "avgPurch2530 = totalPurch2530 / purchase2530\n",
    "# 30-35\n",
    "totalPurch3035 = pymoli_raw[pymoli_raw[\"Age Group\"]==\"30-35\"].sum()[\"Price\"]\n",
    "avgPurch3035 = totalPurch3035 / purchase3035\n",
    "# 35-40\n",
    "totalPurch3540 = pymoli_raw[pymoli_raw[\"Age Group\"]==\"35-40\"].sum()[\"Price\"]\n",
    "avgPurch3540 = totalPurch3540 / purchase3540\n",
    "# 40 +\n",
    "totalPurch4060 = pymoli_raw[pymoli_raw[\"Age Group\"]==\"40+\"].sum()[\"Price\"]\n",
    "avgPurch4060 = totalPurch4060 / purchase4060\n",
    "print (players4060)"
   ]
  },
  {
   "cell_type": "code",
   "execution_count": 25,
   "metadata": {
    "collapsed": true
   },
   "outputs": [],
   "source": [
    "# Normalized Totals\n",
    "\n",
    "# 0-10\n",
    "normalized0010 = (avgPurch0010-avgPP) / standardDeviationPrice\n",
    "# 10-15\n",
    "normalized1015 = (avgPurch1015-avgPP) / standardDeviationPrice\n",
    "# 15-20\n",
    "normalized1520 = (avgPurch1520-avgPP) / standardDeviationPrice\n",
    "# 20-25\n",
    "normalized2025 = (avgPurch2025-avgPP) / standardDeviationPrice\n",
    "# 25-30\n",
    "normalized2530 = (avgPurch2530-avgPP) / standardDeviationPrice\n",
    "# 30-35\n",
    "normalized3035 = (avgPurch3035-avgPP) / standardDeviationPrice\n",
    "# 35-40\n",
    "normalized3540 = (avgPurch3540-avgPP) / standardDeviationPrice\n",
    "# 40 +\n",
    "normalized4060 = (avgPurch4060-avgPP) / standardDeviationPrice\n"
   ]
  },
  {
   "cell_type": "code",
   "execution_count": 26,
   "metadata": {},
   "outputs": [
    {
     "data": {
      "text/html": [
       "<div>\n",
       "<style>\n",
       "    .dataframe thead tr:only-child th {\n",
       "        text-align: right;\n",
       "    }\n",
       "\n",
       "    .dataframe thead th {\n",
       "        text-align: left;\n",
       "    }\n",
       "\n",
       "    .dataframe tbody tr th {\n",
       "        vertical-align: top;\n",
       "    }\n",
       "</style>\n",
       "<table border=\"1\" class=\"dataframe\">\n",
       "  <thead>\n",
       "    <tr style=\"text-align: right;\">\n",
       "      <th></th>\n",
       "      <th>Purchase Count</th>\n",
       "      <th>Average Purchase Price</th>\n",
       "      <th>Total Purchase Value</th>\n",
       "      <th>Normalized Cost</th>\n",
       "    </tr>\n",
       "  </thead>\n",
       "  <tbody>\n",
       "    <tr>\n",
       "      <th>0-10</th>\n",
       "      <td>5</td>\n",
       "      <td>$2.76</td>\n",
       "      <td>$13.82</td>\n",
       "      <td>-0.1413</td>\n",
       "    </tr>\n",
       "    <tr>\n",
       "      <th>10-15</th>\n",
       "      <td>4</td>\n",
       "      <td>$3.05</td>\n",
       "      <td>$12.21</td>\n",
       "      <td>0.1129</td>\n",
       "    </tr>\n",
       "    <tr>\n",
       "      <th>15-20</th>\n",
       "      <td>20</td>\n",
       "      <td>$2.73</td>\n",
       "      <td>$54.69</td>\n",
       "      <td>-0.1673</td>\n",
       "    </tr>\n",
       "    <tr>\n",
       "      <th>20-25</th>\n",
       "      <td>33</td>\n",
       "      <td>$3.04</td>\n",
       "      <td>$100.42</td>\n",
       "      <td>0.1046</td>\n",
       "    </tr>\n",
       "    <tr>\n",
       "      <th>25-30</th>\n",
       "      <td>4</td>\n",
       "      <td>$2.69</td>\n",
       "      <td>$10.77</td>\n",
       "      <td>-0.2043</td>\n",
       "    </tr>\n",
       "    <tr>\n",
       "      <th>30-35</th>\n",
       "      <td>7</td>\n",
       "      <td>$2.35</td>\n",
       "      <td>$16.47</td>\n",
       "      <td>-0.5036</td>\n",
       "    </tr>\n",
       "    <tr>\n",
       "      <th>35-40</th>\n",
       "      <td>5</td>\n",
       "      <td>$3.94</td>\n",
       "      <td>$19.72</td>\n",
       "      <td>0.8984</td>\n",
       "    </tr>\n",
       "    <tr>\n",
       "      <th>40+</th>\n",
       "      <td>0</td>\n",
       "      <td>$nan</td>\n",
       "      <td>$0.00</td>\n",
       "      <td>nan</td>\n",
       "    </tr>\n",
       "  </tbody>\n",
       "</table>\n",
       "</div>"
      ],
      "text/plain": [
       "       Purchase Count Average Purchase Price Total Purchase Value  \\\n",
       "0-10                5                  $2.76               $13.82   \n",
       "10-15               4                  $3.05               $12.21   \n",
       "15-20              20                  $2.73               $54.69   \n",
       "20-25              33                  $3.04              $100.42   \n",
       "25-30               4                  $2.69               $10.77   \n",
       "30-35               7                  $2.35               $16.47   \n",
       "35-40               5                  $3.94               $19.72   \n",
       "40+                 0                   $nan                $0.00   \n",
       "\n",
       "      Normalized Cost  \n",
       "0-10          -0.1413  \n",
       "10-15          0.1129  \n",
       "15-20         -0.1673  \n",
       "20-25          0.1046  \n",
       "25-30         -0.2043  \n",
       "30-35         -0.5036  \n",
       "35-40          0.8984  \n",
       "40+               nan  "
      ]
     },
     "execution_count": 26,
     "metadata": {},
     "output_type": "execute_result"
    }
   ],
   "source": [
    "agePurchaseBreakdown = pd.DataFrame({\"Age Group\":[\"0-10\",\"10-15\",\"15-20\",\"20-25\",\"25-30\",\"30-35\",\"35-40\",\"40+\"],\n",
    "                                    \"Purchase Count\":[purchase0010, purchase1015, purchase1520, purchase2025, purchase2530, purchase3035, purchase3540, purchase4060],\n",
    "                                    \"Average Purchase Price\":[avgPurch0010, avgPurch1015, avgPurch1520, avgPurch2025, avgPurch2530, avgPurch3035, avgPurch3540, avgPurch4060],\n",
    "                                    \"Total Purchase Value\":[totalPurch0010, totalPurch1015, totalPurch1520, totalPurch2025, totalPurch2530, totalPurch3035, totalPurch3540, totalPurch4060],\n",
    "                                    \"Normalized Cost\":[normalized0010, normalized1015, normalized1520, normalized2025, normalized2530, normalized3035, normalized3540, normalized4060]})\n",
    "agePurchaseBreakdown.set_index(\"Age Group\", inplace= True)\n",
    "del agePurchaseBreakdown.index.name\n",
    "agePurchaseBreakdown[\"Average Purchase Price\"] = agePurchaseBreakdown[\"Average Purchase Price\"].map(\"${0:,.2f}\".format)\n",
    "agePurchaseBreakdown[\"Normalized Cost\"] = agePurchaseBreakdown[\"Normalized Cost\"].map(\"{0:,.4f}\".format)\n",
    "agePurchaseBreakdown[\"Total Purchase Value\"] = agePurchaseBreakdown[\"Total Purchase Value\"].map(\"${0:,.2f}\".format)\n",
    "\n",
    "agePurchaseBreakdown = agePurchaseBreakdown[[\"Purchase Count\", \"Average Purchase Price\", \"Total Purchase Value\", \"Normalized Cost\"]]\n",
    "agePurchaseBreakdown"
   ]
  },
  {
   "cell_type": "code",
   "execution_count": 27,
   "metadata": {
    "collapsed": true
   },
   "outputs": [],
   "source": [
    "# **Top Spenders**\n",
    "\n",
    "# * Identify the the top 5 spenders in the game by total purchase value, then list (in a table):\n",
    "#   * SN\n",
    "#   * Purchase Count\n",
    "snPurchaseCount = pymoli_raw['SN'].value_counts()"
   ]
  },
  {
   "cell_type": "code",
   "execution_count": 28,
   "metadata": {
    "collapsed": true
   },
   "outputs": [],
   "source": [
    "#   * Total Purchase Value\n",
    "groupedPymoli = pymoli_raw.groupby(['SN'])\n",
    "# groupedPymoli.count().head(10)"
   ]
  },
  {
   "cell_type": "code",
   "execution_count": 29,
   "metadata": {
    "collapsed": true
   },
   "outputs": [],
   "source": [
    "snTotalPurch = groupedPymoli['Price'].sum()\n",
    "# snTotalPurch"
   ]
  },
  {
   "cell_type": "code",
   "execution_count": 30,
   "metadata": {
    "collapsed": true
   },
   "outputs": [],
   "source": [
    "snAvgPurch = groupedPymoli['Price'].mean()\n",
    "# snAvgPurch"
   ]
  },
  {
   "cell_type": "code",
   "execution_count": 31,
   "metadata": {},
   "outputs": [
    {
     "data": {
      "text/html": [
       "<div>\n",
       "<style>\n",
       "    .dataframe thead tr:only-child th {\n",
       "        text-align: right;\n",
       "    }\n",
       "\n",
       "    .dataframe thead th {\n",
       "        text-align: left;\n",
       "    }\n",
       "\n",
       "    .dataframe tbody tr th {\n",
       "        vertical-align: top;\n",
       "    }\n",
       "</style>\n",
       "<table border=\"1\" class=\"dataframe\">\n",
       "  <thead>\n",
       "    <tr style=\"text-align: right;\">\n",
       "      <th></th>\n",
       "      <th>Purchase Count</th>\n",
       "      <th>Average Purchase Price</th>\n",
       "      <th>Total Purchase Value</th>\n",
       "    </tr>\n",
       "    <tr>\n",
       "      <th>SN</th>\n",
       "      <th></th>\n",
       "      <th></th>\n",
       "      <th></th>\n",
       "    </tr>\n",
       "  </thead>\n",
       "  <tbody>\n",
       "    <tr>\n",
       "      <th>Sundaky74</th>\n",
       "      <td>2</td>\n",
       "      <td>$3.71</td>\n",
       "      <td>$7.41</td>\n",
       "    </tr>\n",
       "    <tr>\n",
       "      <th>Aidaira26</th>\n",
       "      <td>2</td>\n",
       "      <td>$2.56</td>\n",
       "      <td>$5.13</td>\n",
       "    </tr>\n",
       "    <tr>\n",
       "      <th>Eusty71</th>\n",
       "      <td>1</td>\n",
       "      <td>$4.81</td>\n",
       "      <td>$4.81</td>\n",
       "    </tr>\n",
       "    <tr>\n",
       "      <th>Chanirra64</th>\n",
       "      <td>1</td>\n",
       "      <td>$4.78</td>\n",
       "      <td>$4.78</td>\n",
       "    </tr>\n",
       "    <tr>\n",
       "      <th>Alarap40</th>\n",
       "      <td>1</td>\n",
       "      <td>$4.71</td>\n",
       "      <td>$4.71</td>\n",
       "    </tr>\n",
       "  </tbody>\n",
       "</table>\n",
       "</div>"
      ],
      "text/plain": [
       "            Purchase Count Average Purchase Price Total Purchase Value\n",
       "SN                                                                    \n",
       "Sundaky74                2                  $3.71                $7.41\n",
       "Aidaira26                2                  $2.56                $5.13\n",
       "Eusty71                  1                  $4.81                $4.81\n",
       "Chanirra64               1                  $4.78                $4.78\n",
       "Alarap40                 1                  $4.71                $4.71"
      ]
     },
     "execution_count": 31,
     "metadata": {},
     "output_type": "execute_result"
    }
   ],
   "source": [
    "snPurchaseDF = pd.DataFrame({\"Purchase Count\": snPurchaseCount,\n",
    "                            \"Average Purchase Price\": snAvgPurch,\n",
    "                            \"Total Purchase Value\": snTotalPurch})\n",
    "snPurchaseDF[\"Average Purchase Price\"] = snPurchaseDF[\"Average Purchase Price\"].map(\"${0:,.2f}\".format)\n",
    "\n",
    "snPurchaseDF = snPurchaseDF[[\"Purchase Count\",\"Average Purchase Price\",\"Total Purchase Value\"]]\n",
    "snPurchaseDF = snPurchaseDF.sort_values([\"Total Purchase Value\"], ascending = False)\n",
    "snPurchaseDF[\"Total Purchase Value\"] = snPurchaseDF[\"Total Purchase Value\"].map(\"${0:,.2f}\".format)\n",
    "snPurchaseDF.index.name = \"SN\"\n",
    "snPurchaseDF.head(5)"
   ]
  },
  {
   "cell_type": "code",
   "execution_count": 32,
   "metadata": {
    "collapsed": true
   },
   "outputs": [],
   "source": [
    "itemPurchaseCount = pymoli_raw['Item ID'].value_counts()\n",
    "# itemPurchaseCount"
   ]
  },
  {
   "cell_type": "code",
   "execution_count": 33,
   "metadata": {
    "collapsed": true
   },
   "outputs": [],
   "source": [
    "groupedItem = pymoli_raw.groupby(['Item ID'])\n",
    "# groupedItem.count().head(10)"
   ]
  },
  {
   "cell_type": "code",
   "execution_count": 34,
   "metadata": {
    "collapsed": true
   },
   "outputs": [],
   "source": [
    "itemPrice = groupedItem['Price'].mean()\n",
    "# itemPrice"
   ]
  },
  {
   "cell_type": "code",
   "execution_count": 35,
   "metadata": {
    "collapsed": true
   },
   "outputs": [],
   "source": [
    "itemTotalPurch = groupedItem['Price'].sum()\n",
    "# itemTotalPurch"
   ]
  },
  {
   "cell_type": "code",
   "execution_count": 36,
   "metadata": {
    "collapsed": true
   },
   "outputs": [],
   "source": [
    "# get itemID for item\n",
    "itemCatalog = pymoli_raw.drop_duplicates(['Item ID'])\n",
    "itemCatalog.set_index(['Item ID'], inplace=True)\n",
    "itemCatalog = itemCatalog[[\"Item Name\"]]\n",
    "itemCatalog = itemCatalog.sort_index()\n",
    "# itemCatalog.head(5)"
   ]
  },
  {
   "cell_type": "code",
   "execution_count": 37,
   "metadata": {
    "collapsed": true
   },
   "outputs": [],
   "source": [
    "itemDF = pd.DataFrame({\"Purchase Count\": itemPurchaseCount,\n",
    "                      \"Item Price\": itemPrice,\n",
    "                      \"Total Purchase Value\": itemTotalPurch})\n",
    "itemDF.head()\n",
    "\n",
    "merge_itemDF = pd.merge(itemDF, itemCatalog, left_index=True, right_index=True, how=\"left\")\n",
    "\n",
    "# itemDF[\"Item ID\"] = itemDF[\"Item ID\"].map(\"{0:,.0f}\".format)\n",
    "merge_itemDF = merge_itemDF.reset_index()\n",
    "merge_itemDF = merge_itemDF.rename(columns={\"index\":\"Item Name\"})\n",
    "merge_itemDF = merge_itemDF.set_index(['Item ID', 'Item Name'])\n",
    "# merge_itemDF.head()\n"
   ]
  },
  {
   "cell_type": "code",
   "execution_count": 38,
   "metadata": {},
   "outputs": [
    {
     "data": {
      "text/html": [
       "<div>\n",
       "<style>\n",
       "    .dataframe thead tr:only-child th {\n",
       "        text-align: right;\n",
       "    }\n",
       "\n",
       "    .dataframe thead th {\n",
       "        text-align: left;\n",
       "    }\n",
       "\n",
       "    .dataframe tbody tr th {\n",
       "        vertical-align: top;\n",
       "    }\n",
       "</style>\n",
       "<table border=\"1\" class=\"dataframe\">\n",
       "  <thead>\n",
       "    <tr style=\"text-align: right;\">\n",
       "      <th></th>\n",
       "      <th></th>\n",
       "      <th>Item Price</th>\n",
       "      <th>Purchase Count</th>\n",
       "      <th>Total Purchase Value</th>\n",
       "    </tr>\n",
       "    <tr>\n",
       "      <th>Item ID</th>\n",
       "      <th>Item Name</th>\n",
       "      <th></th>\n",
       "      <th></th>\n",
       "      <th></th>\n",
       "    </tr>\n",
       "  </thead>\n",
       "  <tbody>\n",
       "    <tr>\n",
       "      <th>94</th>\n",
       "      <th>Mourning Blade</th>\n",
       "      <td>$3.64</td>\n",
       "      <td>3</td>\n",
       "      <td>$10.92</td>\n",
       "    </tr>\n",
       "    <tr>\n",
       "      <th>90</th>\n",
       "      <th>Betrayer</th>\n",
       "      <td>$4.12</td>\n",
       "      <td>2</td>\n",
       "      <td>$8.24</td>\n",
       "    </tr>\n",
       "    <tr>\n",
       "      <th>111</th>\n",
       "      <th>Misery's End</th>\n",
       "      <td>$1.79</td>\n",
       "      <td>2</td>\n",
       "      <td>$3.58</td>\n",
       "    </tr>\n",
       "    <tr>\n",
       "      <th>64</th>\n",
       "      <th>Fusion Pummel</th>\n",
       "      <td>$2.42</td>\n",
       "      <td>2</td>\n",
       "      <td>$4.84</td>\n",
       "    </tr>\n",
       "    <tr>\n",
       "      <th>154</th>\n",
       "      <th>Feral Katana</th>\n",
       "      <td>$4.11</td>\n",
       "      <td>2</td>\n",
       "      <td>$8.22</td>\n",
       "    </tr>\n",
       "  </tbody>\n",
       "</table>\n",
       "</div>"
      ],
      "text/plain": [
       "                       Item Price  Purchase Count Total Purchase Value\n",
       "Item ID Item Name                                                     \n",
       "94      Mourning Blade      $3.64               3               $10.92\n",
       "90      Betrayer            $4.12               2                $8.24\n",
       "111     Misery's End        $1.79               2                $3.58\n",
       "64      Fusion Pummel       $2.42               2                $4.84\n",
       "154     Feral Katana        $4.11               2                $8.22"
      ]
     },
     "execution_count": 38,
     "metadata": {},
     "output_type": "execute_result"
    }
   ],
   "source": [
    "# Most Popular Items by Purchase Count\n",
    "popularItems = merge_itemDF.sort_values([\"Purchase Count\"], ascending = False)\n",
    "popularItems[\"Item Price\"] = popularItems[\"Item Price\"].map(\"${0:,.2f}\".format)\n",
    "popularItems[\"Total Purchase Value\"] = popularItems[\"Total Purchase Value\"].map(\"${0:,.2f}\".format)\n",
    "popularItems.head(5)"
   ]
  },
  {
   "cell_type": "code",
   "execution_count": 39,
   "metadata": {},
   "outputs": [
    {
     "data": {
      "text/html": [
       "<div>\n",
       "<style>\n",
       "    .dataframe thead tr:only-child th {\n",
       "        text-align: right;\n",
       "    }\n",
       "\n",
       "    .dataframe thead th {\n",
       "        text-align: left;\n",
       "    }\n",
       "\n",
       "    .dataframe tbody tr th {\n",
       "        vertical-align: top;\n",
       "    }\n",
       "</style>\n",
       "<table border=\"1\" class=\"dataframe\">\n",
       "  <thead>\n",
       "    <tr style=\"text-align: right;\">\n",
       "      <th></th>\n",
       "      <th></th>\n",
       "      <th>Item Price</th>\n",
       "      <th>Purchase Count</th>\n",
       "      <th>Total Purchase Value</th>\n",
       "    </tr>\n",
       "    <tr>\n",
       "      <th>Item ID</th>\n",
       "      <th>Item Name</th>\n",
       "      <th></th>\n",
       "      <th></th>\n",
       "      <th></th>\n",
       "    </tr>\n",
       "  </thead>\n",
       "  <tbody>\n",
       "    <tr>\n",
       "      <th>94</th>\n",
       "      <th>Mourning Blade</th>\n",
       "      <td>$3.64</td>\n",
       "      <td>3</td>\n",
       "      <td>$10.92</td>\n",
       "    </tr>\n",
       "    <tr>\n",
       "      <th>117</th>\n",
       "      <th>Heartstriker, Legacy of the Light</th>\n",
       "      <td>$4.71</td>\n",
       "      <td>2</td>\n",
       "      <td>$9.42</td>\n",
       "    </tr>\n",
       "    <tr>\n",
       "      <th>93</th>\n",
       "      <th>Apocalyptic Battlescythe</th>\n",
       "      <td>$4.49</td>\n",
       "      <td>2</td>\n",
       "      <td>$8.98</td>\n",
       "    </tr>\n",
       "    <tr>\n",
       "      <th>90</th>\n",
       "      <th>Betrayer</th>\n",
       "      <td>$4.12</td>\n",
       "      <td>2</td>\n",
       "      <td>$8.24</td>\n",
       "    </tr>\n",
       "    <tr>\n",
       "      <th>154</th>\n",
       "      <th>Feral Katana</th>\n",
       "      <td>$4.11</td>\n",
       "      <td>2</td>\n",
       "      <td>$8.22</td>\n",
       "    </tr>\n",
       "  </tbody>\n",
       "</table>\n",
       "</div>"
      ],
      "text/plain": [
       "                                          Item Price  Purchase Count  \\\n",
       "Item ID Item Name                                                      \n",
       "94      Mourning Blade                         $3.64               3   \n",
       "117     Heartstriker, Legacy of the Light      $4.71               2   \n",
       "93      Apocalyptic Battlescythe               $4.49               2   \n",
       "90      Betrayer                               $4.12               2   \n",
       "154     Feral Katana                           $4.11               2   \n",
       "\n",
       "                                          Total Purchase Value  \n",
       "Item ID Item Name                                               \n",
       "94      Mourning Blade                                  $10.92  \n",
       "117     Heartstriker, Legacy of the Light                $9.42  \n",
       "93      Apocalyptic Battlescythe                         $8.98  \n",
       "90      Betrayer                                         $8.24  \n",
       "154     Feral Katana                                     $8.22  "
      ]
     },
     "execution_count": 39,
     "metadata": {},
     "output_type": "execute_result"
    }
   ],
   "source": [
    "# Most Profitable\n",
    "profitItems = merge_itemDF.sort_values([\"Total Purchase Value\"], ascending = False)\n",
    "profitItems[\"Item Price\"] = profitItems[\"Item Price\"].map(\"${0:,.2f}\".format)\n",
    "profitItems[\"Total Purchase Value\"] = profitItems[\"Total Purchase Value\"].map(\"${0:,.2f}\".format)\n",
    "profitItems.head(5)"
   ]
  },
  {
   "cell_type": "code",
   "execution_count": null,
   "metadata": {
    "collapsed": true
   },
   "outputs": [],
   "source": []
  }
 ],
 "metadata": {
  "kernelspec": {
   "display_name": "Python [conda env:pythondata]",
   "language": "python",
   "name": "conda-env-pythondata-py"
  },
  "language_info": {
   "codemirror_mode": {
    "name": "ipython",
    "version": 3
   },
   "file_extension": ".py",
   "mimetype": "text/x-python",
   "name": "python",
   "nbconvert_exporter": "python",
   "pygments_lexer": "ipython3",
   "version": "3.6.3"
  }
 },
 "nbformat": 4,
 "nbformat_minor": 2
}
